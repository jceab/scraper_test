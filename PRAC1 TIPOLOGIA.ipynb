{
 "cells": [
  {
   "cell_type": "code",
   "execution_count": 91,
   "metadata": {},
   "outputs": [
    {
     "name": "stdout",
     "output_type": "stream",
     "text": [
      "<Response [200]>\n",
      "<!DOCTYPE html>\n",
      "<html lang=\"en\">\n",
      "<head>\n",
      "            <!-- Google Tag Manager -->\n",
      "        <script>(function(w,d,s,l,i){w[l]=w[l]||[];w[l].push({'gtm.start':\n",
      "                    new Date().getTime(),event:'gtm.js'});var f=d.getElementsByTagName(s)[0],\n",
      "                j=d.createElement(s),dl=l!='dataLayer'?'&l='+l:'';j.async=true;j.src=\n",
      "                'https://www.googletagmanager.com/gtm.js?id='+i+dl;f.parentNode.insertBefore(j,f);\n",
      "            })(window,document,'script','dataLayer','GTM-59VSKW');</script>\n",
      "        <!-- End Google Tag Manager -->\n",
      "          <meta charset=\"utf-8\">\n",
      "    <meta name=\"viewport\" content=\"width=device-width, initial-scale=1\"/>\n",
      "      \n",
      "\n",
      "<link rel=\"apple-touch-icon\" sizes=\"180x180\" href=\"/images/favicon/apple-touch-icon.png\">\n",
      "<link rel=\"icon\" sizes=\"32x32\" type=\"image/png\" href=\"/images/favicon/favicon-32x32.png\">\n",
      "<link rel=\"icon\" sizes=\"16x16\" type=\"image/png\" href=\"/images/favicon/favicon-16x16.png\">\n",
      "<link rel=\"manifest\" href=\"/images/favicon/site.webmanifest\">\n",
      "<li\n"
     ]
    }
   ],
   "source": [
    "from bs4 import BeautifulSoup\n",
    "from requests import get\n",
    "import pandas as pd\n",
    "import itertools\n",
    "import matplotlib.pyplot as plt\n",
    "import seaborn as sns\n",
    "from time import sleep\n",
    "import random\n",
    "sns.set()\n",
    "\n",
    "headers = ({'User-Agent':\n",
    "            'Mozilla/5.0 (Windows NT 6.1) AppleWebKit/537.36 (KHTML, like Gecko) Chrome/41.0.2228.0 Safari/537.36'})\n",
    "\n",
    "wortimmo = \"https://www.wortimmo.lu/en/search?property_search_engine%5BtransactionType%5D=vente&property_search_engine%5Blocation%5D=country-1&property_search_engine%5BpropertyTypes%5D%5B0%5D=0&property_search_engine%5BpropertyTypes%5D%5B1%5D=1&property_search_engine%5BpropertyTypes%5D%5B2%5D=2&property_search_engine%5BpropertyTypes%5D%5B3%5D=3&property_search_engine%5BpropertyTypes%5D%5B4%5D=4&property_search_engine%5BpropertyTypes%5D%5B5%5D=5&property_search_engine%5BpropertyTypes%5D%5B6%5D=6&property_search_engine%5BpurchasePriceMax%5D=&property_search_engine%5BbedroomMin%5D=2&property_search_engine%5Bsubmit%5D=&page=1\"\n",
    "response = get(wortimmo, headers=headers)\n",
    "\n",
    "print(response)\n",
    "print(response.text[:1000])"
   ]
  },
  {
   "cell_type": "code",
   "execution_count": 32,
   "metadata": {},
   "outputs": [],
   "source": [
    "html_page = BeautifulSoup(response.text, 'html.parser')\n",
    "\n",
    "#house_containers = html_page.find_all('div', class_=\"property-informations\")\n",
    "house_containers = html_page.find_all('div', class_=\"c-organism c-property-result-block\")\n"
   ]
  },
  {
   "cell_type": "code",
   "execution_count": 88,
   "metadata": {},
   "outputs": [],
   "source": [
    "primero = house_containers[0]\n",
    "primero.find_all('span')\n",
    "\n",
    "medida = primero.find_all('span')[4].text\n",
    "num_hab = primero.find_all('span')[5].text\n",
    "num_parking = primero.find_all('span')[6].text"
   ]
  },
  {
   "cell_type": "code",
   "execution_count": 89,
   "metadata": {},
   "outputs": [
    {
     "data": {
      "text/plain": [
       "'\\n                94 m²\\n            '"
      ]
     },
     "execution_count": 89,
     "metadata": {},
     "output_type": "execute_result"
    }
   ],
   "source": [
    "medida"
   ]
  },
  {
   "cell_type": "code",
   "execution_count": 90,
   "metadata": {},
   "outputs": [
    {
     "data": {
      "text/plain": [
       "'94 m²'"
      ]
     },
     "execution_count": 90,
     "metadata": {},
     "output_type": "execute_result"
    }
   ],
   "source": [
    "medida = medida.replace(\"\\n                \",\"\")\n",
    "medida = medida.replace(\"\\n            \",\"\")\n",
    "#medida = int(\"\".join(itertools.takewhile(str.isdigit, medida)))\n",
    "#print(medida,type(medida))\n",
    "medida"
   ]
  },
  {
   "cell_type": "code",
   "execution_count": 36,
   "metadata": {},
   "outputs": [
    {
     "name": "stdout",
     "output_type": "stream",
     "text": [
      "2 <class 'int'>\n"
     ]
    }
   ],
   "source": [
    "num_hab = num_hab.replace(\"\\n                \",\"\")\n",
    "num_hab = int(\"\".join(itertools.takewhile(str.isdigit, num_hab)))\n",
    "print(num_hab,type(num_hab))"
   ]
  },
  {
   "cell_type": "code",
   "execution_count": 37,
   "metadata": {},
   "outputs": [
    {
     "name": "stdout",
     "output_type": "stream",
     "text": [
      "1 <class 'int'>\n"
     ]
    }
   ],
   "source": [
    "num_parking = num_parking.replace(\"\\n                \",\"\")\n",
    "num_parking = int(\"\".join(itertools.takewhile(str.isdigit, num_parking)))\n",
    "print(num_parking,type(num_parking))"
   ]
  },
  {
   "cell_type": "code",
   "execution_count": 38,
   "metadata": {},
   "outputs": [
    {
     "data": {
      "text/plain": [
       "'Apartment with 2 bedroom(s) to sell in Rodange'"
      ]
     },
     "execution_count": 38,
     "metadata": {},
     "output_type": "execute_result"
    }
   ],
   "source": [
    "primero.find_all('h2')\n",
    "\n",
    "descripcion = primero.find_all('h2')[0].text\n",
    "descripcion = descripcion.replace(\"\\n    \",\"\")\n",
    "descripcion"
   ]
  },
  {
   "cell_type": "code",
   "execution_count": 78,
   "metadata": {},
   "outputs": [
    {
     "data": {
      "text/plain": [
       "'\\n    491 400 €\\n'"
      ]
     },
     "execution_count": 78,
     "metadata": {},
     "output_type": "execute_result"
    }
   ],
   "source": [
    "primero.find_all('a')\n",
    "\n",
    "#precio = primero.find_all('a')[8].text\n",
    "precio = primero.find_all('div', class_=\"c-price c-text c-text__price\")[0].text\n",
    "#precio = precio.replace(\"\\n    \",\"\")\n",
    "#precio = precio.replace(\" \",\"\")\n",
    "#precio = int(\"\".join(itertools.takewhile(str.isdigit, precio)))\n",
    "#print(precio,type(precio))\n",
    "precio"
   ]
  },
  {
   "cell_type": "code",
   "execution_count": 9,
   "metadata": {},
   "outputs": [
    {
     "name": "stdout",
     "output_type": "stream",
     "text": [
      " Rodange\n"
     ]
    }
   ],
   "source": [
    "lugar = descripcion\n",
    "print(lugar.split(\"in\",1)[1])"
   ]
  },
  {
   "cell_type": "code",
   "execution_count": 114,
   "metadata": {},
   "outputs": [
    {
     "name": "stdout",
     "output_type": "stream",
     "text": [
      "/en/new/apartment/sud/rodange/wi246287\n",
      "/en/new/apartment/sud/rodange/wi246287\n",
      "/en/new/apartment/sud/rodange/wi246287\n",
      "/en/new/apartment/sud/rodange/wi246287\n",
      "/\n",
      "tel:+352661294446\n",
      "/en/new/apartment/sud/rodange/wi246287\n",
      "/en/new/apartment/sud/rodange/wi246287\n",
      "/en/new/apartment/sud/rodange/wi246287\n",
      "/en/new/apartment/sud/rodange/wi246287\n",
      "https://www.wortimmo.lu/en/agency/immo-assur/esch-sur-alzette/620\n"
     ]
    }
   ],
   "source": [
    "for url in primero.find_all('a'):\n",
    "    print(url.get('href'))"
   ]
  },
  {
   "cell_type": "code",
   "execution_count": 115,
   "metadata": {},
   "outputs": [
    {
     "data": {
      "text/plain": [
       "'https://www.wortimmo.lu/en/new/apartment/sud/rodange/wi246287'"
      ]
     },
     "execution_count": 115,
     "metadata": {},
     "output_type": "execute_result"
    }
   ],
   "source": [
    "'https://www.wortimmo.lu' + primero.find_all('a')[0].get('href')"
   ]
  },
  {
   "cell_type": "code",
   "execution_count": 12,
   "metadata": {},
   "outputs": [],
   "source": [
    "# setting up the lists that will form our dataframe with all the results\n",
    "descripciones = []\n",
    "precios = []\n",
    "medidas = []\n",
    "lugares = []\n",
    "habitaciones = []\n",
    "parkings = []\n",
    "urls = []"
   ]
  },
  {
   "cell_type": "code",
   "execution_count": 154,
   "metadata": {},
   "outputs": [
    {
     "name": "stdout",
     "output_type": "stream",
     "text": [
      "Wall time: 11.9 s\n"
     ]
    }
   ],
   "source": [
    "%%time\n",
    "\n",
    "# setting up the lists that will form our dataframe with all the results\n",
    "descripciones = []\n",
    "precios = []\n",
    "medidas = []\n",
    "lugares = []\n",
    "habitaciones = []\n",
    "parkings = []\n",
    "urls = []\n",
    "\n",
    "\n",
    "\n",
    "n_pages = 0\n",
    "\n",
    "for i in range(12):\n",
    "    n_pages += 1\n",
    "    wortimmo = \"https://www.wortimmo.lu/en/search?property_search_engine%5BtransactionType%5D=vente&property_search_engine%5Blocation%5D=country-1&property_search_engine%5BpropertyTypes%5D%5B0%5D=0&property_search_engine%5BpropertyTypes%5D%5B1%5D=1&property_search_engine%5BpropertyTypes%5D%5B2%5D=2&property_search_engine%5BpropertyTypes%5D%5B3%5D=3&property_search_engine%5BpropertyTypes%5D%5B4%5D=4&property_search_engine%5BpropertyTypes%5D%5B5%5D=5&property_search_engine%5BpropertyTypes%5D%5B6%5D=6&property_search_engine%5BpurchasePriceMax%5D=&property_search_engine%5BbedroomMin%5D=2&property_search_engine%5Bsubmit%5D=\"+\"&page=\"+str(i)\n",
    "    r = get(wortimmo, headers=headers)\n",
    "    page_html = BeautifulSoup(r.text, 'html.parser')\n",
    "    house_containers = page_html.find_all('div', class_=\"c-organism c-property-result-block\")\n",
    "    if house_containers != []:\n",
    "        for container in house_containers:\n",
    "            \n",
    "            # Area\n",
    "            medida = container.find_all('span')[4].text\n",
    "            medida = medida.replace(\"\\n                \",\"\")\n",
    "            medida = medida.replace(\"\\n            \",\"\")\n",
    "            #medida = medida.replace(\" \",\"\")\n",
    "            medida = \"\".join(itertools.takewhile(str.isdigit, medida))\n",
    "            medidas.append(medida)\n",
    "            \n",
    "            # Precio            \n",
    "            precio = container.find_all('div', class_=\"c-price c-text c-text__price\")[0].text\n",
    "            precio = precio.replace(\"\\n    \",\"\")\n",
    "            precio = precio.replace(\" \",\"\")\n",
    "            precio = \"\".join(itertools.takewhile(str.isdigit, precio))\n",
    "            precios.append(precio)\n",
    "            \n",
    "            # Description\n",
    "            descripcion = container.find_all('h2')[0].text\n",
    "            descripcion = descripcion.replace(\"\\n    \",\"\")\n",
    "            \n",
    "            descripciones.append(descripcion)\n",
    "\n",
    "            # Habitaciones\n",
    "            num_hab = primero.find_all('span')[5].text   \n",
    "            num_hab = num_hab.replace(\"\\n                \",\"\")\n",
    "            num_hab = \"\".join(itertools.takewhile(str.isdigit, num_hab))\n",
    "            habitaciones.append(num_hab)\n",
    "            \n",
    "            # Lugar\n",
    "            lugar = descripcion.split(\"in\",1)[1]\n",
    "            lugares.append(lugar)\n",
    "            \n",
    "            # url\n",
    "            link = 'https://www.wortimmo.lu' + primero.find_all('a')[0].get('href')\n",
    "            urls.append(link)\n",
    "            \n",
    "            # Parking\n",
    "            num_parking = primero.find_all('span')[6].text\n",
    "            num_parking = num_parking.replace(\"\\n                \",\"\")\n",
    "            num_parking = \"\".join(itertools.takewhile(str.isdigit, num_parking))\n",
    "            parkings.append(num_parking)\n",
    "        \n",
    "            \n",
    "            # image\n",
    "            #img = str(container.find_all('img')[0])\n",
    "            #img = img[img.find('data-original_2x=')+18:img.find('id=')-2]\n",
    "            #thumbnails.append(img)\n",
    "    else:\n",
    "        break\n",
    "    \n",
    "    #sleep(random.randint(1,2))\n",
    "    \n",
    "print('You scraped {} pages containing {} properties.'.format(n_pages, len(descripciones)))\n",
    "\n",
    "cols = ['Descripcion', 'Precio', 'Area (m²)', 'Num. Habitaciones', 'Zona', 'Num. Parkings', 'URL']\n",
    "\n",
    "luxemburgo = pd.DataFrame({'Descripcion': descripciones,\n",
    "                           'Precio': precios,\n",
    "                           'Area (m²)': medidas,\n",
    "                           'Num. Habitaciones': habitaciones,\n",
    "                           'Num. Parkings': parkings,\n",
    "                           'Zona': lugares,\n",
    "                           'URL': urls,\n",
    "                          })[cols]\n",
    "\n",
    "luxemburgo.to_excel('luxemburgo_raw.xls')\n",
    "\n"
   ]
  },
  {
   "cell_type": "code",
   "execution_count": 129,
   "metadata": {},
   "outputs": [
    {
     "data": {
      "text/html": [
       "<div>\n",
       "<style scoped>\n",
       "    .dataframe tbody tr th:only-of-type {\n",
       "        vertical-align: middle;\n",
       "    }\n",
       "\n",
       "    .dataframe tbody tr th {\n",
       "        vertical-align: top;\n",
       "    }\n",
       "\n",
       "    .dataframe thead th {\n",
       "        text-align: right;\n",
       "    }\n",
       "</style>\n",
       "<table border=\"1\" class=\"dataframe\">\n",
       "  <thead>\n",
       "    <tr style=\"text-align: right;\">\n",
       "      <th></th>\n",
       "      <th>Descripcion</th>\n",
       "      <th>Precio</th>\n",
       "      <th>Area (m²)</th>\n",
       "      <th>Num. Habitaciones</th>\n",
       "      <th>Zona</th>\n",
       "      <th>Num. Parkings</th>\n",
       "      <th>URL</th>\n",
       "    </tr>\n",
       "  </thead>\n",
       "  <tbody>\n",
       "    <tr>\n",
       "      <th>0</th>\n",
       "      <td>Apartment with 2 bedroom(s) to sell in Rodange</td>\n",
       "      <td>491400</td>\n",
       "      <td>94.0</td>\n",
       "      <td>2</td>\n",
       "      <td>Rodange</td>\n",
       "      <td>1</td>\n",
       "      <td>https://www.wortimmo.lu/en/new/apartment/sud/r...</td>\n",
       "    </tr>\n",
       "    <tr>\n",
       "      <th>1</th>\n",
       "      <td>Apartment with 3 bedroom(s) to sell in Rodange</td>\n",
       "      <td>564564</td>\n",
       "      <td>109.0</td>\n",
       "      <td>2</td>\n",
       "      <td>Rodange</td>\n",
       "      <td>1</td>\n",
       "      <td>https://www.wortimmo.lu/en/new/apartment/sud/r...</td>\n",
       "    </tr>\n",
       "    <tr>\n",
       "      <th>2</th>\n",
       "      <td>Apartment with 3 bedroom(s) to sell in Esch-su...</td>\n",
       "      <td>478000</td>\n",
       "      <td>94.0</td>\n",
       "      <td>2</td>\n",
       "      <td>Esch-sur-Alzette</td>\n",
       "      <td>1</td>\n",
       "      <td>https://www.wortimmo.lu/en/new/apartment/sud/r...</td>\n",
       "    </tr>\n",
       "    <tr>\n",
       "      <th>3</th>\n",
       "      <td>Apartment with 2 bedroom(s) to sell in Esch-su...</td>\n",
       "      <td>425000</td>\n",
       "      <td>70.0</td>\n",
       "      <td>2</td>\n",
       "      <td>Esch-sur-Alzette</td>\n",
       "      <td>1</td>\n",
       "      <td>https://www.wortimmo.lu/en/new/apartment/sud/r...</td>\n",
       "    </tr>\n",
       "    <tr>\n",
       "      <th>4</th>\n",
       "      <td>Apartment with 3 bedroom(s) to sell in Rodange</td>\n",
       "      <td>552188</td>\n",
       "      <td>106.0</td>\n",
       "      <td>2</td>\n",
       "      <td>Rodange</td>\n",
       "      <td>1</td>\n",
       "      <td>https://www.wortimmo.lu/en/new/apartment/sud/r...</td>\n",
       "    </tr>\n",
       "  </tbody>\n",
       "</table>\n",
       "</div>"
      ],
      "text/plain": [
       "                                         Descripcion  Precio  Area (m²)  \\\n",
       "0     Apartment with 2 bedroom(s) to sell in Rodange  491400       94.0   \n",
       "1     Apartment with 3 bedroom(s) to sell in Rodange  564564      109.0   \n",
       "2  Apartment with 3 bedroom(s) to sell in Esch-su...  478000       94.0   \n",
       "3  Apartment with 2 bedroom(s) to sell in Esch-su...  425000       70.0   \n",
       "4     Apartment with 3 bedroom(s) to sell in Rodange  552188      106.0   \n",
       "\n",
       "   Num. Habitaciones               Zona  Num. Parkings  \\\n",
       "0                  2            Rodange              1   \n",
       "1                  2            Rodange              1   \n",
       "2                  2   Esch-sur-Alzette              1   \n",
       "3                  2   Esch-sur-Alzette              1   \n",
       "4                  2            Rodange              1   \n",
       "\n",
       "                                                 URL  \n",
       "0  https://www.wortimmo.lu/en/new/apartment/sud/r...  \n",
       "1  https://www.wortimmo.lu/en/new/apartment/sud/r...  \n",
       "2  https://www.wortimmo.lu/en/new/apartment/sud/r...  \n",
       "3  https://www.wortimmo.lu/en/new/apartment/sud/r...  \n",
       "4  https://www.wortimmo.lu/en/new/apartment/sud/r...  "
      ]
     },
     "execution_count": 129,
     "metadata": {},
     "output_type": "execute_result"
    }
   ],
   "source": [
    "luxemburgo = pd.read_excel('luxemburgo_raw.xls')\n",
    "\n",
    "luxemburgo.head()"
   ]
  },
  {
   "cell_type": "code",
   "execution_count": 130,
   "metadata": {},
   "outputs": [
    {
     "name": "stdout",
     "output_type": "stream",
     "text": [
      "Descripcion           object\n",
      "Precio                 int64\n",
      "Area (m²)            float64\n",
      "Num. Habitaciones      int64\n",
      "Zona                  object\n",
      "Num. Parkings          int64\n",
      "URL                   object\n",
      "dtype: object\n"
     ]
    }
   ],
   "source": [
    "print(luxemburgo.dtypes)"
   ]
  }
 ],
 "metadata": {
  "kernelspec": {
   "display_name": "Python 3",
   "language": "python",
   "name": "python3"
  },
  "language_info": {
   "codemirror_mode": {
    "name": "ipython",
    "version": 3
   },
   "file_extension": ".py",
   "mimetype": "text/x-python",
   "name": "python",
   "nbconvert_exporter": "python",
   "pygments_lexer": "ipython3",
   "version": "3.7.1"
  }
 },
 "nbformat": 4,
 "nbformat_minor": 2
}
